{
 "cells": [
  {
   "cell_type": "code",
   "execution_count": 1,
   "id": "28f42c60",
   "metadata": {},
   "outputs": [
    {
     "name": "stdout",
     "output_type": "stream",
     "text": [
      "WARNING:tensorflow:From C:\\Users\\HOme\\anaconda3\\Lib\\site-packages\\keras\\src\\losses.py:2976: The name tf.losses.sparse_softmax_cross_entropy is deprecated. Please use tf.compat.v1.losses.sparse_softmax_cross_entropy instead.\n",
      "\n"
     ]
    }
   ],
   "source": [
    "from keras.models import Sequential\n",
    "from keras.layers import Conv2D, MaxPooling2D, Dense, Dropout, Flatten\n",
    "from keras.optimizers import Adam\n",
    "from keras.preprocessing.image import ImageDataGenerator\n",
    "from tensorflow.keras.optimizers import Adam\n",
    "from tensorflow.keras.preprocessing.image import ImageDataGenerator\n",
    "from tensorflow.keras.optimizers.schedules import ExponentialDecay\n",
    "import cv2\n",
    "from keras.models import model_from_json\n",
    "import numpy as np"
   ]
  },
  {
   "cell_type": "code",
   "execution_count": 2,
   "id": "094b02e7",
   "metadata": {},
   "outputs": [],
   "source": [
    "train_data_gen = ImageDataGenerator(rescale=1./255)\n",
    "validation_data_gen = ImageDataGenerator(rescale=1./255)"
   ]
  },
  {
   "cell_type": "code",
   "execution_count": 5,
   "id": "647102ed",
   "metadata": {},
   "outputs": [],
   "source": [
    "import os"
   ]
  },
  {
   "cell_type": "code",
   "execution_count": 12,
   "id": "48d4c465",
   "metadata": {},
   "outputs": [
    {
     "name": "stdout",
     "output_type": "stream",
     "text": [
      "Found 28709 images belonging to 7 classes.\n"
     ]
    }
   ],
   "source": [
    "train_generator = train_data_gen.flow_from_directory(\n",
    "                          r'C:\\Users\\HOme\\Downloads\\ds\\train',\n",
    "                          target_size = (48,48),\n",
    "                          batch_size = 64,\n",
    "                          color_mode = 'grayscale',\n",
    "                          class_mode = 'categorical')"
   ]
  },
  {
   "cell_type": "code",
   "execution_count": 13,
   "id": "eba4e967",
   "metadata": {},
   "outputs": [
    {
     "name": "stdout",
     "output_type": "stream",
     "text": [
      "Found 7178 images belonging to 7 classes.\n"
     ]
    }
   ],
   "source": [
    "validation_generator = validation_data_gen.flow_from_directory(\n",
    "        r'C:\\Users\\HOme\\Downloads\\ds\\test',\n",
    "        target_size=(48, 48),\n",
    "        batch_size=64,\n",
    "        color_mode=\"grayscale\",\n",
    "        class_mode='categorical')"
   ]
  },
  {
   "cell_type": "code",
   "execution_count": 14,
   "id": "47297583",
   "metadata": {},
   "outputs": [
    {
     "name": "stdout",
     "output_type": "stream",
     "text": [
      "WARNING:tensorflow:From C:\\Users\\HOme\\anaconda3\\Lib\\site-packages\\keras\\src\\backend.py:873: The name tf.get_default_graph is deprecated. Please use tf.compat.v1.get_default_graph instead.\n",
      "\n",
      "WARNING:tensorflow:From C:\\Users\\HOme\\anaconda3\\Lib\\site-packages\\keras\\src\\layers\\pooling\\max_pooling2d.py:161: The name tf.nn.max_pool is deprecated. Please use tf.nn.max_pool2d instead.\n",
      "\n",
      "Model: \"sequential\"\n",
      "_________________________________________________________________\n",
      " Layer (type)                Output Shape              Param #   \n",
      "=================================================================\n",
      " conv2d (Conv2D)             (None, 46, 46, 32)        320       \n",
      "                                                                 \n",
      " conv2d_1 (Conv2D)           (None, 44, 44, 64)        18496     \n",
      "                                                                 \n",
      " max_pooling2d (MaxPooling2  (None, 22, 22, 64)        0         \n",
      " D)                                                              \n",
      "                                                                 \n",
      " dropout (Dropout)           (None, 22, 22, 64)        0         \n",
      "                                                                 \n",
      " conv2d_2 (Conv2D)           (None, 20, 20, 128)       73856     \n",
      "                                                                 \n",
      " max_pooling2d_1 (MaxPoolin  (None, 10, 10, 128)       0         \n",
      " g2D)                                                            \n",
      "                                                                 \n",
      " conv2d_3 (Conv2D)           (None, 8, 8, 128)         147584    \n",
      "                                                                 \n",
      " max_pooling2d_2 (MaxPoolin  (None, 4, 4, 128)         0         \n",
      " g2D)                                                            \n",
      "                                                                 \n",
      " dropout_1 (Dropout)         (None, 4, 4, 128)         0         \n",
      "                                                                 \n",
      " flatten (Flatten)           (None, 2048)              0         \n",
      "                                                                 \n",
      " dense (Dense)               (None, 1024)              2098176   \n",
      "                                                                 \n",
      " dropout_2 (Dropout)         (None, 1024)              0         \n",
      "                                                                 \n",
      " dense_1 (Dense)             (None, 7)                 7175      \n",
      "                                                                 \n",
      "=================================================================\n",
      "Total params: 2345607 (8.95 MB)\n",
      "Trainable params: 2345607 (8.95 MB)\n",
      "Non-trainable params: 0 (0.00 Byte)\n",
      "_________________________________________________________________\n"
     ]
    }
   ],
   "source": [
    "emotion_model = Sequential()\n",
    "\n",
    "emotion_model.add(Conv2D(32, kernel_size=(3, 3), activation='relu', \n",
    "                         input_shape=(48, 48, 1)))\n",
    "\n",
    "emotion_model.add(Conv2D(64, kernel_size=(3, 3), activation='relu'))\n",
    "\n",
    "emotion_model.add(MaxPooling2D(pool_size=(2, 2)))\n",
    "emotion_model.add(Dropout(0.25))\n",
    " \n",
    "emotion_model.add(Conv2D(128, kernel_size=(3, 3), activation='relu'))\n",
    "emotion_model.add(MaxPooling2D(pool_size=(2, 2)))\n",
    "emotion_model.add(Conv2D(128, kernel_size=(3, 3), activation='relu'))\n",
    "emotion_model.add(MaxPooling2D(pool_size=(2, 2)))\n",
    "emotion_model.add(Dropout(0.25))\n",
    " \n",
    "emotion_model.add(Flatten())\n",
    "emotion_model.add(Dense(1024, activation='relu'))\n",
    "emotion_model.add(Dropout(0.5))\n",
    "emotion_model.add(Dense(7, activation='softmax'))\n",
    " \n",
    "emotion_model.summary()\n",
    " \n",
    "cv2.ocl.setUseOpenCL(False)\n",
    " \n",
    "initial_learning_rate = 0.0001\n",
    "lr_schedule = ExponentialDecay(initial_learning_rate, decay_steps=100000, \n",
    "                               decay_rate=0.96)\n",
    " \n",
    "optimizer = Adam(learning_rate=lr_schedule)\n",
    " \n",
    "emotion_model.compile(loss='categorical_crossentropy', optimizer=optimizer, \n",
    "                      metrics=['accuracy'])"
   ]
  },
  {
   "cell_type": "code",
   "execution_count": 15,
   "id": "2b273c51",
   "metadata": {},
   "outputs": [
    {
     "name": "stderr",
     "output_type": "stream",
     "text": [
      "C:\\Users\\HOme\\AppData\\Local\\Temp\\ipykernel_8668\\182995105.py:1: UserWarning: `Model.fit_generator` is deprecated and will be removed in a future version. Please use `Model.fit`, which supports generators.\n",
      "  emotion_model_info = emotion_model.fit_generator(\n"
     ]
    },
    {
     "name": "stdout",
     "output_type": "stream",
     "text": [
      "Epoch 1/30\n",
      "WARNING:tensorflow:From C:\\Users\\HOme\\anaconda3\\Lib\\site-packages\\keras\\src\\utils\\tf_utils.py:492: The name tf.ragged.RaggedTensorValue is deprecated. Please use tf.compat.v1.ragged.RaggedTensorValue instead.\n",
      "\n",
      "WARNING:tensorflow:From C:\\Users\\HOme\\anaconda3\\Lib\\site-packages\\keras\\src\\engine\\base_layer_utils.py:384: The name tf.executing_eagerly_outside_functions is deprecated. Please use tf.compat.v1.executing_eagerly_outside_functions instead.\n",
      "\n",
      "448/448 [==============================] - 222s 492ms/step - loss: 1.7849 - accuracy: 0.2703 - val_loss: 1.6553 - val_accuracy: 0.3686\n",
      "Epoch 2/30\n",
      "448/448 [==============================] - 72s 160ms/step - loss: 1.5927 - accuracy: 0.3809 - val_loss: 1.5231 - val_accuracy: 0.4104\n",
      "Epoch 3/30\n",
      "448/448 [==============================] - 70s 157ms/step - loss: 1.4922 - accuracy: 0.4276 - val_loss: 1.4274 - val_accuracy: 0.4618\n",
      "Epoch 4/30\n",
      "448/448 [==============================] - 73s 164ms/step - loss: 1.4162 - accuracy: 0.4595 - val_loss: 1.3706 - val_accuracy: 0.4777\n",
      "Epoch 5/30\n",
      "448/448 [==============================] - 70s 157ms/step - loss: 1.3633 - accuracy: 0.4849 - val_loss: 1.3142 - val_accuracy: 0.5000\n",
      "Epoch 6/30\n",
      "448/448 [==============================] - 70s 157ms/step - loss: 1.3099 - accuracy: 0.5032 - val_loss: 1.2734 - val_accuracy: 0.5140\n",
      "Epoch 7/30\n",
      "448/448 [==============================] - 71s 159ms/step - loss: 1.2682 - accuracy: 0.5241 - val_loss: 1.2477 - val_accuracy: 0.5243\n",
      "Epoch 8/30\n",
      "448/448 [==============================] - 70s 157ms/step - loss: 1.2318 - accuracy: 0.5356 - val_loss: 1.2155 - val_accuracy: 0.5372\n",
      "Epoch 9/30\n",
      "448/448 [==============================] - 70s 157ms/step - loss: 1.2000 - accuracy: 0.5497 - val_loss: 1.2037 - val_accuracy: 0.5374\n",
      "Epoch 10/30\n",
      "448/448 [==============================] - 71s 157ms/step - loss: 1.1731 - accuracy: 0.5578 - val_loss: 1.1817 - val_accuracy: 0.5466\n",
      "Epoch 11/30\n",
      "448/448 [==============================] - 70s 156ms/step - loss: 1.1474 - accuracy: 0.5693 - val_loss: 1.1610 - val_accuracy: 0.5569\n",
      "Epoch 12/30\n",
      "448/448 [==============================] - 70s 156ms/step - loss: 1.1226 - accuracy: 0.5799 - val_loss: 1.1514 - val_accuracy: 0.5607\n",
      "Epoch 13/30\n",
      "448/448 [==============================] - 71s 158ms/step - loss: 1.1010 - accuracy: 0.5884 - val_loss: 1.1381 - val_accuracy: 0.5671\n",
      "Epoch 14/30\n",
      "448/448 [==============================] - 71s 158ms/step - loss: 1.0817 - accuracy: 0.5954 - val_loss: 1.1208 - val_accuracy: 0.5741\n",
      "Epoch 15/30\n",
      "448/448 [==============================] - 71s 159ms/step - loss: 1.0508 - accuracy: 0.6080 - val_loss: 1.1098 - val_accuracy: 0.5776\n",
      "Epoch 16/30\n",
      "448/448 [==============================] - 71s 158ms/step - loss: 1.0285 - accuracy: 0.6176 - val_loss: 1.1079 - val_accuracy: 0.5778\n",
      "Epoch 17/30\n",
      "448/448 [==============================] - 74s 165ms/step - loss: 1.0073 - accuracy: 0.6279 - val_loss: 1.0948 - val_accuracy: 0.5841\n",
      "Epoch 18/30\n",
      "448/448 [==============================] - 71s 158ms/step - loss: 0.9851 - accuracy: 0.6372 - val_loss: 1.0901 - val_accuracy: 0.5880\n",
      "Epoch 19/30\n",
      "448/448 [==============================] - 71s 158ms/step - loss: 0.9610 - accuracy: 0.6449 - val_loss: 1.0874 - val_accuracy: 0.5911\n",
      "Epoch 20/30\n",
      "448/448 [==============================] - 71s 159ms/step - loss: 0.9403 - accuracy: 0.6521 - val_loss: 1.0805 - val_accuracy: 0.5957\n",
      "Epoch 21/30\n",
      "448/448 [==============================] - 71s 159ms/step - loss: 0.9139 - accuracy: 0.6593 - val_loss: 1.0721 - val_accuracy: 0.5984\n",
      "Epoch 22/30\n",
      "448/448 [==============================] - 68s 153ms/step - loss: 0.8952 - accuracy: 0.6695 - val_loss: 1.0606 - val_accuracy: 0.6064\n",
      "Epoch 23/30\n",
      "448/448 [==============================] - 66s 148ms/step - loss: 0.8732 - accuracy: 0.6787 - val_loss: 1.0625 - val_accuracy: 0.6095\n",
      "Epoch 24/30\n",
      "448/448 [==============================] - 69s 154ms/step - loss: 0.8503 - accuracy: 0.6903 - val_loss: 1.0553 - val_accuracy: 0.6095\n",
      "Epoch 25/30\n",
      "448/448 [==============================] - 71s 159ms/step - loss: 0.8251 - accuracy: 0.6960 - val_loss: 1.0596 - val_accuracy: 0.6098\n",
      "Epoch 26/30\n",
      "448/448 [==============================] - 71s 158ms/step - loss: 0.8066 - accuracy: 0.7023 - val_loss: 1.0595 - val_accuracy: 0.6038\n",
      "Epoch 27/30\n",
      "448/448 [==============================] - 71s 159ms/step - loss: 0.7832 - accuracy: 0.7153 - val_loss: 1.0594 - val_accuracy: 0.6112\n",
      "Epoch 28/30\n",
      "448/448 [==============================] - 71s 159ms/step - loss: 0.7675 - accuracy: 0.7167 - val_loss: 1.0567 - val_accuracy: 0.6143\n",
      "Epoch 29/30\n",
      "448/448 [==============================] - 71s 159ms/step - loss: 0.7415 - accuracy: 0.7312 - val_loss: 1.0632 - val_accuracy: 0.6144\n",
      "Epoch 30/30\n",
      "448/448 [==============================] - 74s 164ms/step - loss: 0.7215 - accuracy: 0.7373 - val_loss: 1.0791 - val_accuracy: 0.6120\n"
     ]
    }
   ],
   "source": [
    "emotion_model_info = emotion_model.fit_generator(\n",
    "        train_generator,\n",
    "        steps_per_epoch=28709 // 64,\n",
    "        epochs=30,\n",
    "        validation_data=validation_generator,\n",
    "        validation_steps=7178 // 64)"
   ]
  },
  {
   "cell_type": "code",
   "execution_count": 16,
   "id": "7b848b24",
   "metadata": {},
   "outputs": [
    {
     "name": "stdout",
     "output_type": "stream",
     "text": [
      "113/113 [==============================] - 4s 38ms/step - loss: 1.0786 - accuracy: 0.6124\n"
     ]
    },
    {
     "data": {
      "text/plain": [
       "[1.0785682201385498, 0.6124268770217896]"
      ]
     },
     "execution_count": 16,
     "metadata": {},
     "output_type": "execute_result"
    }
   ],
   "source": [
    "emotion_model.evaluate(validation_generator)"
   ]
  },
  {
   "cell_type": "code",
   "execution_count": 17,
   "id": "7344476f",
   "metadata": {},
   "outputs": [],
   "source": [
    "accuracy = emotion_model_info.history['accuracy']\n",
    "val_accuracy = emotion_model_info.history['val_accuracy']\n",
    "loss = emotion_model_info.history['loss']\n",
    "val_loss = emotion_model_info.history['val_loss']"
   ]
  },
  {
   "cell_type": "code",
   "execution_count": 18,
   "id": "9218cee1",
   "metadata": {},
   "outputs": [
    {
     "data": {
      "image/png": "[encoded data removed]",
      "text/plain": [
       "<Figure size 640x480 with 2 Axes>"
      ]
     },
     "metadata": {},
     "output_type": "display_data"
    }
   ],
   "source": [
    "import matplotlib.pyplot as plt\n",
    " \n",
    "# Accuracy graph\n",
    "plt.subplot(1, 2, 1)\n",
    "plt.plot(accuracy, label='accuracy')\n",
    "plt.plot(val_accuracy, label='val accuracy')\n",
    "plt.title('Accuracy Graph')\n",
    "plt.xlabel('Epochs')\n",
    "plt.ylabel('Accuracy')\n",
    "plt.legend()\n",
    " \n",
    "# loss graph\n",
    "plt.subplot(1, 2, 2)\n",
    "plt.plot(loss, label='loss')\n",
    "plt.plot(val_loss, label='val loss')\n",
    "plt.title('Loss Graph')\n",
    "plt.xlabel('Epochs')\n",
    "plt.ylabel('Loss')\n",
    "plt.legend()\n",
    " \n",
    "plt.show()"
   ]
  },
  {
   "cell_type": "code",
   "execution_count": 20,
   "id": "2750eec3",
   "metadata": {},
   "outputs": [],
   "source": [
    "model_json = emotion_model.to_json()\n",
    "with open(\"emotion_model.json\", \"w\") as json_file:\n",
    "    json_file.write(model_json)\n",
    " \n",
    "# save trained model weight in .h5 file\n",
    "emotion_model.save_weights('emotion_model.h5')"
   ]
  },
  {
   "cell_type": "code",
   "execution_count": 21,
   "id": "465b9c6c",
   "metadata": {},
   "outputs": [],
   "source": [
    "json_file = open('emotion_model.json', 'r')\n",
    "loaded_model_json = json_file.read()\n",
    "json_file.close()\n",
    "emotion_model = model_from_json(loaded_model_json)"
   ]
  },
  {
   "cell_type": "code",
   "execution_count": 25,
   "id": "ee94053c",
   "metadata": {},
   "outputs": [
    {
     "ename": "KeyboardInterrupt",
     "evalue": "",
     "output_type": "error",
     "traceback": [
      "\u001b[1;31m---------------------------------------------------------------------------\u001b[0m",
      "\u001b[1;31mKeyboardInterrupt\u001b[0m                         Traceback (most recent call last)",
      "Cell \u001b[1;32mIn[25], line 12\u001b[0m\n\u001b[0;32m      9\u001b[0m \u001b[38;5;28;01mif\u001b[39;00m \u001b[38;5;129;01mnot\u001b[39;00m ret:\n\u001b[0;32m     10\u001b[0m     \u001b[38;5;28mprint\u001b[39m(ret)\n\u001b[1;32m---> 12\u001b[0m face_detector \u001b[38;5;241m=\u001b[39m cv2\u001b[38;5;241m.\u001b[39mCascadeClassifier(cv2\u001b[38;5;241m.\u001b[39mdata\u001b[38;5;241m.\u001b[39mhaarcascades \u001b[38;5;241m+\u001b[39m \u001b[38;5;124m'\u001b[39m\u001b[38;5;124mhaarcascade_frontalface_default.xml\u001b[39m\u001b[38;5;124m'\u001b[39m)\n\u001b[0;32m     14\u001b[0m gray_frame \u001b[38;5;241m=\u001b[39m cv2\u001b[38;5;241m.\u001b[39mcvtColor(frame, cv2\u001b[38;5;241m.\u001b[39mCOLOR_BGR2GRAY)\n\u001b[0;32m     16\u001b[0m num_faces \u001b[38;5;241m=\u001b[39m face_detector\u001b[38;5;241m.\u001b[39mdetectMultiScale(gray_frame, scaleFactor\u001b[38;5;241m=\u001b[39m\u001b[38;5;241m1.3\u001b[39m, minNeighbors\u001b[38;5;241m=\u001b[39m\u001b[38;5;241m5\u001b[39m)\n",
      "\u001b[1;31mKeyboardInterrupt\u001b[0m: "
     ]
    }
   ],
   "source": [
    "import cv2\n",
    "import numpy as np\n",
    "\n",
    "cap = cv2.VideoCapture(0)\n",
    "\n",
    "while True:\n",
    "    ret, frame = cap.read()\n",
    "    frame = cv2.resize(frame, (1280, 720))\n",
    "    if not ret:\n",
    "        print(ret)\n",
    "    \n",
    "    face_detector = cv2.CascadeClassifier(cv2.data.haarcascades + 'haarcascade_frontalface_default.xml')\n",
    " \n",
    "    gray_frame = cv2.cvtColor(frame, cv2.COLOR_BGR2GRAY)\n",
    " \n",
    "    num_faces = face_detector.detectMultiScale(gray_frame, scaleFactor=1.3, minNeighbors=5)\n",
    " \n",
    "    for (x, y, w, h) in num_faces:\n",
    "        cv2.rectangle(frame, (x, y-50), (x+w, y+h+10), (0, 255, 0), 4)\n",
    "        roi_gray_frame = gray_frame[y:y + h, x:x + w]\n",
    "        cropped_img = np.expand_dims(np.expand_dims(cv2.resize(roi_gray_frame, (48, 48)), -1), 0)\n",
    " \n",
    "        emotion_prediction = emotion_model.predict(cropped_img)\n",
    "        maxindex = int(np.argmax(emotion_prediction))\n",
    "        cv2.putText(frame, emotion_dict[maxindex], (x+5, y-20), cv2.FONT_HERSHEY_SIMPLEX, 1, (0, 0, 255), 2, cv2.LINE_AA)\n",
    " \n",
    "    cv2.imshow('Emotion Detection', frame)\n",
    "    if cv2.waitKey(1) & 0xFF == ord('q'):\n",
    "        break\n",
    " \n",
    "cap.release()\n",
    "cv2.destroyAllWindows()"
   ]
  },
  {
   "cell_type": "code",
   "execution_count": null,
   "id": "bb900e72",
   "metadata": {},
   "outputs": [],
   "source": []
  }
 ],
 "metadata": {
  "kernelspec": {
   "display_name": "Python 3 (ipykernel)",
   "language": "python",
   "name": "python3"
  },
  "language_info": {
   "codemirror_mode": {
    "name": "ipython",
    "version": 3
   },
   "file_extension": ".py",
   "mimetype": "text/x-python",
   "name": "python",
   "nbconvert_exporter": "python",
   "pygments_lexer": "ipython3",
   "version": "3.11.5"
  }
 },
 "nbformat": 4,
 "nbformat_minor": 5
}
